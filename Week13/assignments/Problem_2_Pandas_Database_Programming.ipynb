{
 "cells": [
  {
   "cell_type": "markdown",
   "metadata": {
    "deletable": false,
    "nbgrader": {
     "checksum": "a98c739c45025e75b7a8a39168517825",
     "grade": false,
     "grade_id": "header",
     "locked": true,
     "solution": false
    }
   },
   "source": [
    "A few things you should keep in mind when working on assignments:\n",
    "\n",
    "1. Make sure you fill in any place that says `YOUR CODE HERE`. Do **not** write your answer in anywhere else other than where it says `YOUR CODE HERE`. Anything you write anywhere else will be removed or overwritten by the autograder.\n",
    "\n",
    "2. Before you submit your assignment, make sure everything runs as expected. Go to menubar, select _Kernel_, and restart the kernel and run all cells (_Restart & Run all_).\n",
    "\n",
    "3. Do not change the title (i.e. file name) of this notebook.\n",
    "\n",
    "4. Make sure that you save your work (in the menubar, select _File_ → _Save and CheckPoint_)\n",
    "\n",
    "5. You are allowed to submit an assignment multiple times, but only the most recent submission will be graded."
   ]
  },
  {
   "cell_type": "markdown",
   "metadata": {
    "deletable": false,
    "nbgrader": {
     "checksum": "ffc58c2d71f17cc65a69d2b831d038be",
     "grade": false,
     "grade_id": "title",
     "locked": true,
     "solution": false
    }
   },
   "source": [
    "# Problem 2. Pandas_Database_Programming\n",
    "\n",
    "In this problem, we execute SQL statements in Pandas to create and read a database."
   ]
  },
  {
   "cell_type": "code",
   "execution_count": null,
   "metadata": {
    "collapsed": true,
    "deletable": false,
    "nbgrader": {
     "checksum": "a9cb4c0b74587d6921ee12072973b755",
     "grade": false,
     "grade_id": "import",
     "locked": true,
     "solution": false
    }
   },
   "outputs": [],
   "source": [
    "import os\n",
    "import sqlite3 as sl\n",
    "import pandas as pd\n",
    "\n",
    "from nose.tools import assert_equal, assert_true\n",
    "from pandas.util.testing import assert_frame_equal"
   ]
  },
  {
   "cell_type": "markdown",
   "metadata": {
    "deletable": false,
    "nbgrader": {
     "checksum": "62169f50a88545c997cd36e979f1f96b",
     "grade": false,
     "grade_id": "markdown_1",
     "locked": true,
     "solution": false
    }
   },
   "source": [
    "Suppose we are given the following table.\n",
    "\n",
    "<div align=\"center\">\n",
    "  <b>Midterm</b>\n",
    "</div>\n",
    "<table>\n",
    "  <tr>\n",
    "    <th>Id</th>\n",
    "    <th>Name</th> \n",
    "    <th>Score</th>\n",
    "  </tr>\n",
    "  <tr>\n",
    "    <td>1</td>\n",
    "    <td>Alice</td> \n",
    "    <td>97.3</td>\n",
    "  </tr>\n",
    "  <tr>\n",
    "    <td>2</td>\n",
    "    <td>Bob</td> \n",
    "    <td>87.7</td>\n",
    "  </tr>\n",
    "  <tr>\n",
    "    <td>3</td>\n",
    "    <td>Chris</td> \n",
    "    <td>91.5</td>\n",
    "  </tr>\n",
    "</table>\n",
    "\n",
    "In the following code cell, we represent this table as a Pandas DataFrame named `midterm`.\n",
    "\n",
    "```python\n",
    ">>> print(midterm)\n",
    "```\n",
    "\n",
    "```\n",
    "     Name  Score\n",
    "Id              \n",
    "1   Alice   97.3\n",
    "2     Bob   87.7\n",
    "3   Chris   91.5\n",
    "```"
   ]
  },
  {
   "cell_type": "code",
   "execution_count": null,
   "metadata": {
    "collapsed": false,
    "deletable": false,
    "nbgrader": {
     "checksum": "ef770bd2f3d2cba389229b6c43e2b020",
     "grade": false,
     "grade_id": "midterm",
     "locked": true,
     "solution": false
    }
   },
   "outputs": [],
   "source": [
    "midterm = pd.DataFrame(\n",
    "    {\n",
    "        \"Id\": [1, 2, 3],\n",
    "        \"Name\": [\"Alice\", \"Bob\", \"Chris\"],\n",
    "        \"Score\": [97.3, 87.7, 91.5]\n",
    "    }\n",
    ")\n",
    "\n",
    "index = [1, 2, 3]\n",
    "data = {\n",
    "    \"Name\": [\"Alice\", \"Bob\", \"Chris\"],\n",
    "    \"Score\": [97.3, 87.7, 91.5]\n",
    "}\n",
    "midterm = pd.DataFrame(data=data, index=index)\n",
    "midterm.index.name = \"Id\"\n",
    "\n",
    "print(midterm)"
   ]
  },
  {
   "cell_type": "markdown",
   "metadata": {
    "deletable": false,
    "nbgrader": {
     "checksum": "93f21b1ca5e4f84c83f8b11dc5b9ce3a",
     "grade": false,
     "grade_id": "markdown_2",
     "locked": true,
     "solution": false
    }
   },
   "source": [
    "## Save DataFrame to SQL dabase\n",
    "\n",
    "- Write a function that uses the `to_sql()` method in Pandas to write an existing Pandas DataFrame (`df`) to an SQL database file.\n",
    "- `save_midterm` takes three arguments: `df`, `filename`, and `tablename`.\n",
    "- The first paramter `df` is a Pandas DataFrame.\n",
    "- The `filename` parameter is a string and specifies the name of the database file, e.g., `students.db`.\n",
    "- The `tablename` parameter is a string and specifies the name of the SQL table, e.g. `Midterm`.\n",
    "- Running\n",
    "  ```python\n",
    "  >>> save_midterm(midterm, \"students.db\", \"Midterm\")\n",
    "  ```\n",
    "  should take an existing Pandas DataFrame named `midterm`, and insert this data into an SQL table named `Midterm` in `students.db`. So, after running `save_midterm()` as shown above, we will have a file named `students.db` in the current working directory, and we can use what we learned in the previous week to query the database (see [ACCY 570 Week 12 Problem 1](https://github.com/UI-DataScience/accy570-fa16/blob/master/Week12/assignments/Problem_1_SQL_Data_Manipulation.ipynb)). For example,\n",
    "  ```python\n",
    "  >>> !sqlite3 students.db \".schema\"\n",
    "  ```\n",
    "  ```\n",
    "  CREATE TABLE \"Midterm\" (\n",
    "  \"Id\" INTEGER,\n",
    "  \"Name\" TEXT,\n",
    "  \"Score\" REAL\n",
    "  );\n",
    "  CREATE INDEX \"ix_Midterm_Id\"ON \"Midterm\" (\"Id\");\n",
    "  ```\n",
    "  ```python\n",
    "  >>> !sqlite3 students.db \"SELECT * FROM Midterm\"\n",
    "  ```\n",
    "  ```\n",
    "  1|Alice|97.3\n",
    "  2|Bob|87.7\n",
    "  3|Chris|91.5\n",
    "  ```"
   ]
  },
  {
   "cell_type": "code",
   "execution_count": null,
   "metadata": {
    "collapsed": false,
    "deletable": false,
    "nbgrader": {
     "checksum": "8d2dc0a58da417d81ebf57a9d0e614c2",
     "grade": false,
     "grade_id": "save_answer",
     "locked": false,
     "solution": true
    }
   },
   "outputs": [],
   "source": [
    "def save_midterm(df, filename, tablename):\n",
    "    # YOUR CODE HERE"
   ]
  },
  {
   "cell_type": "code",
   "execution_count": null,
   "metadata": {
    "collapsed": false,
    "deletable": false,
    "nbgrader": {
     "checksum": "d38e6bf77b956a9f886e7c67b0bf91f0",
     "grade": false,
     "grade_id": "save_run_1",
     "locked": true,
     "solution": false
    }
   },
   "outputs": [],
   "source": [
    "save_midterm(midterm, \"students.db\", \"Midterm\")\n",
    "!sqlite3 students.db \".schema\""
   ]
  },
  {
   "cell_type": "code",
   "execution_count": null,
   "metadata": {
    "collapsed": false,
    "deletable": false,
    "nbgrader": {
     "checksum": "4fb6bc38ed9ab0a5b62a94cc3be2167e",
     "grade": false,
     "grade_id": "save_run_2",
     "locked": true,
     "solution": false
    }
   },
   "outputs": [],
   "source": [
    "!sqlite3 students.db \"SELECT * FROM Midterm\""
   ]
  },
  {
   "cell_type": "code",
   "execution_count": null,
   "metadata": {
    "collapsed": false,
    "deletable": false,
    "nbgrader": {
     "checksum": "bc1e7b305cd646d90840e257804b4720",
     "grade": true,
     "grade_id": "save_run",
     "locked": true,
     "points": 5,
     "solution": false
    }
   },
   "outputs": [],
   "source": [
    "assert_true(os.path.exists(\"students.db\"))\n",
    "midterm_test = !sqlite3 students.db \"SELECT * FROM Midterm\"\n",
    "print(midterm_test)\n",
    "midterm_answer = ['1|Alice|97.3', '2|Bob|87.7', '3|Chris|91.5']\n",
    "assert_equal(len(midterm_test), len(midterm_answer))\n",
    "assert_equal(set(midterm_test), set(midterm_answer))"
   ]
  },
  {
   "cell_type": "markdown",
   "metadata": {
    "deletable": false,
    "nbgrader": {
     "checksum": "9639a8068b7d58dcadaacd808e710d7b",
     "grade": false,
     "grade_id": "markdown_3",
     "locked": true,
     "solution": false
    }
   },
   "source": [
    "## Execute an SQL query statement\n",
    "\n",
    "- Write a function that uses the `read_sql()` function to execute a `SELECT` statement and returns the resulting output as a Pandas DataFrame.\n",
    "- `save_midterm` takes three arguments: `filename`, `query`, and `index_col`.\n",
    "- The `filename` parameter is a string and specifies the name of the database file, e.g., `students.db`.\n",
    "- The `query` parameter is an SQL statement (a string).\n",
    "- The `index_col` is also a string and specifies the name of the column to set as index, e.g. `\"Id\"` in the `Midterm` table.\n",
    "- When we run\n",
    "  ```python\n",
    "  >>> data = read_midterm(\"students.db\", query, index_col=\"Id\")\n",
    "  ```\n",
    "  the return value `data` should be a Pandas DataFrame. Recall that we wrote data in `midterm` into `students.db`. So, when we use `read_midterm()` (which is basically the reverse of `save_midterm()`), the resulting DataFrame, i.e. `data`, should be identical to the original data.\n",
    "  ```python\n",
    "  >>> data = read_midterm(\"students.db\", \"SELECT * FROM Midterm;\", index_col=\"Id\")\n",
    "  ```\n",
    "  ```\n",
    "       Name  Score\n",
    "  Id              \n",
    "  1   Alice   97.3\n",
    "  2     Bob   87.7\n",
    "  3   Chris   91.5\n",
    "   ```"
   ]
  },
  {
   "cell_type": "code",
   "execution_count": null,
   "metadata": {
    "collapsed": false,
    "deletable": false,
    "nbgrader": {
     "checksum": "f50c98f3f66336af24ba7e34b2866c7a",
     "grade": false,
     "grade_id": "read_answer",
     "locked": false,
     "solution": true
    }
   },
   "outputs": [],
   "source": [
    "def read_midterm(filename, query, index_col):\n",
    "    # YOUR CODE HERE"
   ]
  },
  {
   "cell_type": "code",
   "execution_count": null,
   "metadata": {
    "collapsed": false,
    "deletable": false,
    "nbgrader": {
     "checksum": "ef15d11fcc2c565fe3e40a8bae1f6f63",
     "grade": false,
     "grade_id": "read_run",
     "locked": true,
     "solution": false
    }
   },
   "outputs": [],
   "source": [
    "data = read_midterm(\"students.db\", \"SELECT * FROM Midterm;\", index_col=\"Id\")\n",
    "print(data)"
   ]
  },
  {
   "cell_type": "code",
   "execution_count": null,
   "metadata": {
    "collapsed": true,
    "deletable": false,
    "nbgrader": {
     "checksum": "c798325903d477fa1e7ae0426be42b81",
     "grade": true,
     "grade_id": "read_test",
     "locked": true,
     "points": 5,
     "solution": false
    }
   },
   "outputs": [],
   "source": [
    "assert_frame_equal(data, midterm)"
   ]
  },
  {
   "cell_type": "code",
   "execution_count": null,
   "metadata": {
    "collapsed": false,
    "deletable": false,
    "nbgrader": {
     "checksum": "95d34b59ffb86acbd9ec21110e500b8b",
     "grade": false,
     "grade_id": "rm",
     "locked": true,
     "solution": false
    }
   },
   "outputs": [],
   "source": [
    "!rm students.db"
   ]
  },
  {
   "cell_type": "code",
   "execution_count": null,
   "metadata": {
    "collapsed": true
   },
   "outputs": [],
   "source": []
  }
 ],
 "metadata": {
  "kernelspec": {
   "display_name": "Python 3",
   "language": "python",
   "name": "python3"
  },
  "language_info": {
   "codemirror_mode": {
    "name": "ipython",
    "version": 3
   },
   "file_extension": ".py",
   "mimetype": "text/x-python",
   "name": "python",
   "nbconvert_exporter": "python",
   "pygments_lexer": "ipython3",
   "version": "3.5.2"
  }
 },
 "nbformat": 4,
 "nbformat_minor": 1
}
