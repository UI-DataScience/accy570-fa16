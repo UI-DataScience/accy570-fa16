{
 "cells": [
  {
   "cell_type": "markdown",
   "metadata": {
    "deletable": false,
    "nbgrader": {
     "checksum": "a98c739c45025e75b7a8a39168517825",
     "grade": false,
     "grade_id": "header",
     "locked": true,
     "solution": false
    }
   },
   "source": [
    "A few things you should keep in mind when working on assignments:\n",
    "\n",
    "1. Make sure you fill in any place that says `YOUR CODE HERE`. Do **not** write your answer in anywhere else other than where it says `YOUR CODE HERE`. Anything you write anywhere else will be removed or overwritten by the autograder.\n",
    "\n",
    "2. Before you submit your assignment, make sure everything runs as expected. Go to menubar, select _Kernel_, and restart the kernel and run all cells (_Restart & Run all_).\n",
    "\n",
    "3. Do not change the title (i.e. file name) of this notebook.\n",
    "\n",
    "4. Make sure that you save your work (in the menubar, select _File_ → _Save and CheckPoint_)\n",
    "\n",
    "5. You are allowed to submit an assignment multiple times, but only the most recent submission will be graded."
   ]
  },
  {
   "cell_type": "markdown",
   "metadata": {
    "deletable": false,
    "nbgrader": {
     "checksum": "7b38be7624955980d94137157f21bf2b",
     "grade": false,
     "grade_id": "title",
     "locked": true,
     "solution": false
    }
   },
   "source": [
    "# Problem 1. Pandas Data Manipulation\n",
    "\n",
    "In this problem, we will use the\n",
    "  [groupby()](http://pandas.pydata.org/pandas-docs/stable/groupby.html)\n",
    "  and [aggregate()](http://pandas.pydata.org/pandas-docs/stable/groupby.html#aggregation)\n",
    "  functions in Pandas to compute and plot the number of flight cancellations\n",
    "  in each month of 2001.\n",
    "  \n",
    "![](https://github.com/UI-DataScience/accy570-fa16/raw/master/Week13/images/cancelled.png)"
   ]
  },
  {
   "cell_type": "code",
   "execution_count": null,
   "metadata": {
    "collapsed": true,
    "deletable": false,
    "nbgrader": {
     "checksum": "8b325a1c4863c3e3775ee36ab0accfb3",
     "grade": false,
     "grade_id": "import",
     "locked": true,
     "solution": false
    }
   },
   "outputs": [],
   "source": [
    "%matplotlib inline\n",
    "\n",
    "import numpy as np\n",
    "import pandas as pd\n",
    "import seaborn as sns\n",
    "\n",
    "from pandas.util.testing import assert_frame_equal"
   ]
  },
  {
   "cell_type": "markdown",
   "metadata": {
    "deletable": false,
    "nbgrader": {
     "checksum": "08ac6edd7ee27577ccac9d4dfc20b680",
     "grade": false,
     "grade_id": "markdown_1",
     "locked": true,
     "solution": false
    }
   },
   "source": [
    "In this problem, we use the [airline on-time performance data](http://stat-computing.org/dataexpo/2009/the-data.html). In the following code cell, we specify the encoding of the file (`latin-1`). Also note that we use the `usecols` option to read only two columns, `Month` and `Cancelled`, for faster performance and lower memory usage."
   ]
  },
  {
   "cell_type": "code",
   "execution_count": null,
   "metadata": {
    "collapsed": false,
    "deletable": false,
    "nbgrader": {
     "checksum": "dde3a943424a4f4dd2cca9c3d72b711c",
     "grade": false,
     "grade_id": "read_csv",
     "locked": true,
     "solution": false
    }
   },
   "outputs": [],
   "source": [
    "df = pd.read_csv('/home/data_scientist/data/2001.csv', encoding='latin-1', usecols=['Month', 'Cancelled'])\n",
    "print(df.head())"
   ]
  },
  {
   "cell_type": "markdown",
   "metadata": {
    "deletable": false,
    "nbgrader": {
     "checksum": "63a925f59e324f03b54da6a398d0c4e0",
     "grade": false,
     "grade_id": "markdown_2",
     "locked": true,
     "solution": false
    }
   },
   "source": [
    "## Add up the flight cancellations by month.\n",
    "\n",
    "- In the following code cell, write a function named `get_month_cancelled()` that groups the rows by month and then adds up the cancellations within the same month.\n",
    "- `get_month_cancelled()` takes a Pandas DataFrame (`df`) which has two columns, `Month` and `Cancelled`.\n",
    "  The `Month` column is an integer column with values ranging from 1 to 12.\n",
    "  The `Cancelled` column is also an integer column, but has only two values, `0` for not cancelled\n",
    "  and `1` if the flight was cancelled. Thus, you will get the total number of cancellations if you add up all the values in the `Cancelled` column, because flights that were not cancelled are all zeros and don't contribute.\n",
    "- `get_month_cancelled()` returns a Pandas DataFrame that is indexed by the **names** of the months\n",
    "  and has only one column `Cancelled`, the number of flight cancellations in each month. In other words,\n",
    "  when you run\n",
    "  ```python\n",
    "  >>> month_cancelled = get_month_cancelled(df)\n",
    "  >>> print(month_cancelled)\n",
    "  ```\n",
    "  you should get\n",
    "  ```\n",
    "                 Cancelled\n",
    "    January        19891\n",
    "    February       17448\n",
    "    March          17876\n",
    "    April          11414\n",
    "    May             9452\n",
    "    June           15509\n",
    "    July           11286\n",
    "    August         13318\n",
    "    September      99324\n",
    "    October         6850\n",
    "    November        4497\n",
    "    December        4333\n",
    "  ```\n",
    "\n",
    "- If you don't set the index manualy, they will be just numbers, i.e. 0, 1, 2,...\n",
    "  Use the following list to change the numbers to the names of the months.\n",
    "  ```python\n",
    "  ['January', 'February', 'March', 'April', 'May', 'June',\n",
    "   'July', 'August', 'September', 'October', 'November', 'December']\n",
    "  ```\n",
    "  If you are not sure how to change the index, see [Chapter 4 of Pandas Cookbook](http://nbviewer.jupyter.org/github/jvns/pandas-cookbook/blob/master/cookbook/Chapter%204%20-%20Find%20out%20on%20which%20weekday%20people%20bike%20the%20most%20with%20groupby%20and%20aggregate.ipynb).\n",
    "  In Pandas Cookbook, the index of `weekday_counts` is originally 0, 1, 2, ...\n",
    "  To change it to Monday, Tuesday, ..., the author uses the following code.\n",
    "  ```python\n",
    "  weekday_counts.index = ['Monday', 'Tuesday', 'Wednesday', 'Thursday', 'Friday', 'Saturday', 'Sunday']\n",
    "  ```\n",
    "  You can use a similar method to change the index."
   ]
  },
  {
   "cell_type": "code",
   "execution_count": null,
   "metadata": {
    "collapsed": true,
    "deletable": false,
    "nbgrader": {
     "checksum": "3f528d8c423eec5401a0e79973a73de8",
     "grade": false,
     "grade_id": "main_answer",
     "locked": false,
     "solution": true
    }
   },
   "outputs": [],
   "source": [
    "def get_month_cancelled(df):\n",
    "    # YOUR CODE HERE"
   ]
  },
  {
   "cell_type": "code",
   "execution_count": null,
   "metadata": {
    "collapsed": false,
    "deletable": false,
    "nbgrader": {
     "checksum": "01d9307fd380ab3d036e95f7c9deb3be",
     "grade": false,
     "grade_id": "main_run",
     "locked": true,
     "solution": false
    }
   },
   "outputs": [],
   "source": [
    "month_cancelled = get_month_cancelled(df)\n",
    "print(month_cancelled)"
   ]
  },
  {
   "cell_type": "code",
   "execution_count": null,
   "metadata": {
    "collapsed": false,
    "deletable": false,
    "nbgrader": {
     "checksum": "7b32b86c16ab64d0eaf3e4cfcc1dea5f",
     "grade": true,
     "grade_id": "main_test",
     "locked": true,
     "points": 10,
     "solution": false
    }
   },
   "outputs": [],
   "source": [
    "answer = pd.DataFrame(\n",
    "    [19891, 17448, 17876, 11414, 9452, 15509,\n",
    "     11286, 13318, 99324, 6850, 4497, 4333],\n",
    "    index=['January', 'February', 'March', 'April', 'May', 'June',\n",
    "           'July', 'August', 'September', 'October', 'November', 'December'],\n",
    "    columns=['Cancelled']\n",
    "    )\n",
    "\n",
    "assert_frame_equal(month_cancelled, answer)\n",
    "\n",
    "# additional test\n",
    "df1 = pd.DataFrame(\n",
    "    {\"Month\": list(range(1, 13)) * 2,\n",
    "     \"Cancelled\": [0, 1] * 12}\n",
    ")\n",
    "df2 = pd.DataFrame(\n",
    "    [0 if i % 2 else 2 for i in range(1, 13)],\n",
    "    index=['January', 'February', 'March', 'April', 'May', 'June',\n",
    "           'July', 'August', 'September', 'October', 'November', 'December'],\n",
    "    columns=['Cancelled']\n",
    ")\n",
    "assert_frame_equal(get_month_cancelled(df1), df2)"
   ]
  },
  {
   "cell_type": "markdown",
   "metadata": {
    "deletable": false,
    "nbgrader": {
     "checksum": "7feb7d6eb70d9048549a85b7f4e5ccbe",
     "grade": false,
     "grade_id": "markdown_3",
     "locked": true,
     "solution": false
    }
   },
   "source": [
    "In the following code cell, we plot the number of cancellations for each month."
   ]
  },
  {
   "cell_type": "code",
   "execution_count": null,
   "metadata": {
    "collapsed": false,
    "deletable": false,
    "nbgrader": {
     "checksum": "e064744e342e52bad71563eabb08bb66",
     "grade": false,
     "grade_id": "plot",
     "locked": true,
     "solution": false
    }
   },
   "outputs": [],
   "source": [
    "month_cancelled.plot(kind='bar');"
   ]
  },
  {
   "cell_type": "code",
   "execution_count": null,
   "metadata": {
    "collapsed": true
   },
   "outputs": [],
   "source": []
  }
 ],
 "metadata": {
  "kernelspec": {
   "display_name": "Python 3",
   "language": "python",
   "name": "python3"
  },
  "language_info": {
   "codemirror_mode": {
    "name": "ipython",
    "version": 3
   },
   "file_extension": ".py",
   "mimetype": "text/x-python",
   "name": "python",
   "nbconvert_exporter": "python",
   "pygments_lexer": "ipython3",
   "version": "3.5.2"
  }
 },
 "nbformat": 4,
 "nbformat_minor": 1
}
